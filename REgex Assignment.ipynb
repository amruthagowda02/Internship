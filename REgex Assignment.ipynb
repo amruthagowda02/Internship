{
 "cells": [
  {
   "cell_type": "code",
   "execution_count": 1,
   "id": "3fdde912",
   "metadata": {},
   "outputs": [
    {
     "name": "stdout",
     "output_type": "stream",
     "text": [
      "Python:Exercises::PHP:exercises:\n"
     ]
    }
   ],
   "source": [
    "import re\n",
    "#Q 1 to replace all occurrences of a space, comma, or dot with a colon. o/p:Python:Exercises::PHP:exercises:\n",
    "txt=\"Python Exercises, PHP exercises.\"\n",
    "print(re.sub(r\"(\\s)|(,)|.$\",\":\",txt))"
   ]
  },
  {
   "cell_type": "code",
   "execution_count": 9,
   "id": "dc3534b2",
   "metadata": {},
   "outputs": [
    {
     "name": "stdout",
     "output_type": "stream",
     "text": [
      "['A', 'as', 'also', 'associate', 'emma', 'about', 'eating']\n"
     ]
    }
   ],
   "source": [
    "#Q 2 find all words starting with 'a' or 'e' in a given string\n",
    "txt=\"A text can be written materials, such as books, magazines, newspapers, or online content. But it can also be other things, those that we may not associate with standard text. emma like txting about eating\"\n",
    "print(re.findall(r'\\b[aeAE][a-zA-Z]*\\b',txt))"
   ]
  },
  {
   "cell_type": "code",
   "execution_count": 11,
   "id": "3de753ef",
   "metadata": {},
   "outputs": [
    {
     "name": "stdout",
     "output_type": "stream",
     "text": [
      "['August', 'India', 'space', 'agency', 'ISRO', 'successfully', 'landed', 'Chandrayaan', 'mission', 'Lander', 'Module', 'Moon', 'surface', 'This', 'achievement', 'because', 'only', 'other', 'countries', 'like', 'USSR', 'China', 'have', 'done', 'this', 'before']\n"
     ]
    }
   ],
   "source": [
    "#Q 3 -find all words that are at least 4 characters long in a string. \n",
    "str1=\"On August 23, India's space agency, ISRO, successfully landed its Chandrayaan-3 mission's Lander Module on the Moon's surface. This is a big achievement because only a few other countries, like the USSR, the U.S., and China, have done this before.\"\n",
    "str_pat=r\"\\w{4,}\"\n",
    "rgx_pat=re.compile(str_pat)\n",
    "print(rgx_pat.findall(str1))"
   ]
  },
  {
   "cell_type": "code",
   "execution_count": 12,
   "id": "d2be897a",
   "metadata": {},
   "outputs": [
    {
     "name": "stdout",
     "output_type": "stream",
     "text": [
      "<re.Match object; span=(14, 19), match='India'>\n",
      "<re.Match object; span=(22, 27), match='space'>\n",
      "<re.Match object; span=(36, 40), match='ISRO'>\n",
      "<re.Match object; span=(62, 65), match='its'>\n",
      "<re.Match object; span=(107, 110), match='the'>\n",
      "<re.Match object; span=(111, 115), match='Moon'>\n"
     ]
    }
   ],
   "source": [
    "# Q4 -to find all three, four, and five character words in a string. \n",
    "str1=\"On August 23, India's space agency, ISRO, successfully landed its Chandrayaan-3 mission's Lander Module on the Moon's surface.\" \n",
    "pat=re.compile(r\"\\b\\w{3}\\b|\\b\\w{4}\\b|\\b\\w{5}\\b\")\n",
    "for match in pat.finditer(str1):\n",
    "    print(match)"
   ]
  },
  {
   "cell_type": "code",
   "execution_count": 13,
   "id": "f6ac2fd5",
   "metadata": {},
   "outputs": [
    {
     "name": "stdout",
     "output_type": "stream",
     "text": [
      "example .com\n",
      "hr@fliprobo .com\n",
      "github .com\n",
      "Hello Data Science World\n",
      "Data Scientist\n"
     ]
    }
   ],
   "source": [
    "#Q5-to remove the parenthesis in a list of strings\n",
    "eg=[\"example (.com)\", \"hr@fliprobo (.com)\", \"github (.com)\", \"Hello (Data Science World)\", \"Data (Scientist)\"]\n",
    "pat = re.compile(r\"\\(|\\)\")\n",
    "for match in eg:\n",
    "    print(re.sub(pat,'',match))"
   ]
  },
  {
   "cell_type": "code",
   "execution_count": 15,
   "id": "fe5f697a",
   "metadata": {},
   "outputs": [
    {
     "name": "stdout",
     "output_type": "stream",
     "text": [
      "example \n",
      "hr@fliprobo \n",
      "github \n",
      "Hello \n",
      "Data \n"
     ]
    }
   ],
   "source": [
    "#Q6-to remove the parenthesis area from the text stored in the text file using Regular Expression.\n",
    "str= [\"example (.com)\", \"hr@fliprobo (.com)\", \"github (.com)\", \"Hello (Data Science World)\", \"Data (Scientist)\"]\n",
    "\n",
    "for i in str:\n",
    "    print(re.sub(r\"\\(.*?\\)\",'',i))"
   ]
  },
  {
   "cell_type": "code",
   "execution_count": 16,
   "id": "e1612258",
   "metadata": {},
   "outputs": [
    {
     "name": "stdout",
     "output_type": "stream",
     "text": [
      "['Importance', 'Of', 'Regular', 'Expressions', 'In', 'Python']\n"
     ]
    }
   ],
   "source": [
    "#q7-to split a string into uppercase letters\n",
    "\n",
    "str=\"ImportanceOfRegularExpressionsInPython\"\n",
    "res=re.findall(r\"([A-Z][^A-Z]*)\",str)\n",
    "print(res)"
   ]
  },
  {
   "cell_type": "code",
   "execution_count": 17,
   "id": "782ef1ac",
   "metadata": {},
   "outputs": [
    {
     "name": "stdout",
     "output_type": "stream",
     "text": [
      "RegularExpression 1IsAn 2ImportantTopic 3InPython\n"
     ]
    }
   ],
   "source": [
    "#Q8-to insert spaces between words starting with numbers.\n",
    "str=\"RegularExpression1IsAn2ImportantTopic3InPython\"\n",
    "res=re.sub(r\"([a-zA-Z])(\\d)\",r\"\\1 \\2\",str)\n",
    "print(res)"
   ]
  },
  {
   "cell_type": "code",
   "execution_count": 18,
   "id": "4b3df17d",
   "metadata": {},
   "outputs": [
    {
     "name": "stdout",
     "output_type": "stream",
     "text": [
      " Regular Expression 1 Is An 2 Important Topic 3 In Python\n"
     ]
    }
   ],
   "source": [
    "#Q9-to insert spaces between words starting with capital letters or with numbers. \n",
    "str = \"RegularExpression1IsAn2ImportantTopic3InPython\"\n",
    "pat = r\"([A-Z]|\\d)\" \n",
    "result = re.sub(pat, r' \\1', str)\n",
    "print(result)"
   ]
  },
  {
   "cell_type": "code",
   "execution_count": 19,
   "id": "4051d3e3",
   "metadata": {},
   "outputs": [
    {
     "name": "stdout",
     "output_type": "stream",
     "text": [
      "Hello my name is Data Science and my email address is xyz@domain.com and alternate email address is xyz.abc@sdomain.domain.com. \n",
      "Please contact us at hr@fliprobo.com for further information. \n"
     ]
    }
   ],
   "source": [
    "#Q10-program to extract email address from the text stored in the text file using Regular Expression.\n",
    "file=open(\"eg.txt\")\n",
    "print(file.read())"
   ]
  },
  {
   "cell_type": "code",
   "execution_count": 20,
   "id": "85db25a8",
   "metadata": {},
   "outputs": [
    {
     "name": "stdout",
     "output_type": "stream",
     "text": [
      "['xyz@domain.com', 'xyz.abc@sdomain.domain.com']\n",
      "['hr@fliprobo.com']\n"
     ]
    }
   ],
   "source": [
    "with open(\"eg.txt\") as file:\n",
    "    for line in file:\n",
    "        urls = re.findall(r'\\b[\\w\\.-]+@[\\w\\.-]+\\b', line)\n",
    "        print(urls)"
   ]
  },
  {
   "cell_type": "code",
   "execution_count": 21,
   "id": "bfe6c3f1",
   "metadata": {},
   "outputs": [
    {
     "name": "stdout",
     "output_type": "stream",
     "text": [
      "Hi_123\n",
      "name_12\n",
      "123\n",
      "data12_\n"
     ]
    }
   ],
   "source": [
    "#Q11-Write a Python program to match a string that contains only upper and lowercase letters, numbers, and underscores.\n",
    "txt = [\"Hi_123\", \"name_12\", \"123\", \"data12_\", \"sCienC?e\", \"flip tech\"]\n",
    "pat = r'^[a-zA-Z0-9_]*$'\n",
    "for i in txt:\n",
    "    if re.match(pat, i):\n",
    "        print(i)"
   ]
  },
  {
   "cell_type": "code",
   "execution_count": 22,
   "id": "1b76a80c",
   "metadata": {},
   "outputs": [
    {
     "name": "stdout",
     "output_type": "stream",
     "text": [
      "<re.Match object; span=(0, 2), match='12'>\n",
      "None\n"
     ]
    }
   ],
   "source": [
    "#Question 12- Write a Python program where a string will start with a specific number. \n",
    "str=\"12 is a aplha numeric number\"\n",
    "print(re.match(r\"\\d.\",str))\n",
    "\n",
    "str1=\"aplha numeric number\"\n",
    "print(re.match(r\"\\d\",str1))"
   ]
  },
  {
   "cell_type": "code",
   "execution_count": 23,
   "id": "e534c6a3",
   "metadata": {},
   "outputs": [
    {
     "name": "stdout",
     "output_type": "stream",
     "text": [
      "192.168.135.143\n"
     ]
    }
   ],
   "source": [
    "#Question 13- Write a Python program to remove leading zeros from an IP address\n",
    "ip= \"192.168.00135.0000143\"\n",
    "pat=r\"\\b0+(\\d+)\\b\"\n",
    "print(re.sub(pat,r'\\1',ip))"
   ]
  },
  {
   "cell_type": "code",
   "execution_count": 24,
   "id": "6c90c55c",
   "metadata": {},
   "outputs": [
    {
     "name": "stdout",
     "output_type": "stream",
     "text": [
      "August 15th 1947\n",
      " On August 15th 1947 that India was declared independent from British colonialism, and the reins of control were handed over to the leaders of the Country.\n"
     ]
    }
   ],
   "source": [
    "#Q14 -to match a date string in the form of Month name followed by day number and year stored in a text file.(o/p=August 15th 1947)\n",
    "\n",
    "with open(\"txt.txt\") as file:\n",
    "    for line in file:\n",
    "        date = re.findall(r'(\\w+\\s+\\d{1,2}(?:st|nd|rd|th) \\d{4})', line)\n",
    "        for i in date:\n",
    "            print(i)\n",
    "file=open(\"txt.txt\")\n",
    "print(file.read())"
   ]
  },
  {
   "cell_type": "code",
   "execution_count": 25,
   "id": "930a2bc9",
   "metadata": {},
   "outputs": [
    {
     "name": "stdout",
     "output_type": "stream",
     "text": [
      "['fox', 'dog']\n"
     ]
    }
   ],
   "source": [
    "#Q15- Write a Python program to search some literals strings in a string. \n",
    "str='The quick brown fox jumps over the lazy dog.'\n",
    "pat=r\"fox|dog|horse\"\n",
    "print(re.findall(pat,str))"
   ]
  },
  {
   "cell_type": "code",
   "execution_count": 26,
   "id": "17f49cb4",
   "metadata": {},
   "outputs": [
    {
     "name": "stdout",
     "output_type": "stream",
     "text": [
      "<re.Match object; span=(16, 19), match='fox'>\n",
      "<re.Match object; span=(40, 43), match='dog'>\n"
     ]
    }
   ],
   "source": [
    "#Q16-to search a literals string in a string and also find the location within the original string where the pattern occurs\n",
    "str='The quick brown fox jumps over the lazy dog.'\n",
    "pat=r\"fox|dog|horse\"\n",
    "res=re.finditer(pat, str)\n",
    "for i in res:\n",
    "    print(i)\n"
   ]
  },
  {
   "cell_type": "code",
   "execution_count": 27,
   "id": "dd7e6b59",
   "metadata": {},
   "outputs": [
    {
     "name": "stdout",
     "output_type": "stream",
     "text": [
      "['exercises', 'exercises', 'exercises']\n"
     ]
    }
   ],
   "source": [
    "#Q17- Write a Python program to find the substrings within a string\n",
    "txt='Python exercises, PHP exercises, C# exercises'\n",
    "pat='exercises'\n",
    "print(re.findall(pat,txt))"
   ]
  },
  {
   "cell_type": "code",
   "execution_count": 28,
   "id": "ed938fc0",
   "metadata": {},
   "outputs": [
    {
     "name": "stdout",
     "output_type": "stream",
     "text": [
      "<re.Match object; span=(7, 16), match='exercises'>\n",
      "<re.Match object; span=(22, 31), match='exercises'>\n",
      "<re.Match object; span=(36, 45), match='exercises'>\n"
     ]
    }
   ],
   "source": [
    "#Q 18- Write a Python program to find the occurrence and position of the substrings within a string.\n",
    "txt='Python exercises, PHP exercises, C# exercises'\n",
    "pat='exercises'\n",
    "res=re.finditer(pat, txt)\n",
    "for i in res:\n",
    "    print(i)"
   ]
  },
  {
   "cell_type": "code",
   "execution_count": 30,
   "id": "724ee8a8",
   "metadata": {},
   "outputs": [
    {
     "name": "stdout",
     "output_type": "stream",
     "text": [
      "25-08-08\n"
     ]
    }
   ],
   "source": [
    "#Q 19- Write a Python program to convert a date of yyyy-mm-dd format to dd-mm-yyyy format.\n",
    "txt='2023-08-25'\n",
    "pat=(r'(\\d{4})-(\\d{2})-(\\d{2})')\n",
    "replace=(r'\\3-\\2-\\2')\n",
    "print(re.sub(pat,replace,txt))"
   ]
  },
  {
   "cell_type": "code",
   "execution_count": 31,
   "id": "fd9f651a",
   "metadata": {},
   "outputs": [
    {
     "name": "stdout",
     "output_type": "stream",
     "text": [
      "['01.12', '0132.12', '2.31', '145.8', '3.01', '27.25', '0.25']\n"
     ]
    }
   ],
   "source": [
    "#q20-to find all decimal numbers with a precision of 1 or 2 in a string\n",
    "txt=\"01.12 0132.123 2.31875 145.8 3.01 27.25 0.25\"\n",
    "pat=r'\\d+\\.\\d{1,2}'\n",
    "res=re.compile(pat)\n",
    "print(res.findall(txt))"
   ]
  },
  {
   "cell_type": "code",
   "execution_count": 32,
   "id": "2e096d56",
   "metadata": {},
   "outputs": [
    {
     "name": "stdout",
     "output_type": "stream",
     "text": [
      "<re.Match object; span=(0, 1), match='1'>\n",
      "<re.Match object; span=(2, 3), match='2'>\n",
      "<re.Match object; span=(4, 5), match='3'>\n",
      "<re.Match object; span=(6, 7), match='4'>\n",
      "<re.Match object; span=(8, 9), match='5'>\n",
      "<re.Match object; span=(10, 11), match='6'>\n",
      "<re.Match object; span=(12, 13), match='7'>\n",
      "<re.Match object; span=(14, 15), match='8'>\n",
      "<re.Match object; span=(16, 17), match='9'>\n"
     ]
    }
   ],
   "source": [
    "#Q 21- Write a Python program to separate and print the numbers and their position of a given string.\n",
    "str='1 2 3 4 5 6 7 8 9'\n",
    "pat=r'\\d+'\n",
    "res=re.finditer(pat, str)\n",
    "for i in res:\n",
    "    print(i)"
   ]
  },
  {
   "cell_type": "code",
   "execution_count": 33,
   "id": "3a73e5f5",
   "metadata": {},
   "outputs": [
    {
     "name": "stdout",
     "output_type": "stream",
     "text": [
      "950\n"
     ]
    },
    {
     "data": {
      "text/plain": [
       "'950'"
      ]
     },
     "execution_count": 33,
     "metadata": {},
     "output_type": "execute_result"
    }
   ],
   "source": [
    "#Q 22- Write a regular expression in python program to extract maximum/largest numeric value from a string.\n",
    "def numeric(str):\n",
    "    \n",
    "    pat=r'\\d+'\n",
    "    match=re.findall(pat,str)\n",
    "    if match:\n",
    "        maxi=max(match)\n",
    "        print(maxi)\n",
    "        return maxi\n",
    "    else:\n",
    "        return none\n",
    "str=\"My marks in each semester are: 947, 896, 926, 524, 734, 950, 642\"\n",
    "numeric(str)"
   ]
  },
  {
   "cell_type": "code",
   "execution_count": 34,
   "id": "b6cbf191",
   "metadata": {},
   "outputs": [
    {
     "name": "stdout",
     "output_type": "stream",
     "text": [
      "Regular Expression Is An Important Topic In Python\n"
     ]
    }
   ],
   "source": [
    "#Q 23- Create a function in python to insert spaces between words starting with capital letters.\n",
    "str=\"RegularExpressionIsAnImportantTopicInPython\"\n",
    "res=re.sub(r\"([a-z])([A-Z])\",r\"\\1 \\2\",str)\n",
    "print(res)\n"
   ]
  },
  {
   "cell_type": "code",
   "execution_count": 35,
   "id": "cbf22d57",
   "metadata": {},
   "outputs": [
    {
     "name": "stdout",
     "output_type": "stream",
     "text": [
      "['Python']\n"
     ]
    }
   ],
   "source": [
    "#Q 24- Python regex to find sequences of one upper case letter followed by lower case letters\n",
    "txt=\"Python exercises, PHP exercises, C# exercises\"\n",
    "pat=r'([A-Z][a-z]+)'\n",
    "print(re.findall(pat,txt))"
   ]
  },
  {
   "cell_type": "code",
   "execution_count": 36,
   "id": "d3ad11b7",
   "metadata": {},
   "outputs": [
    {
     "name": "stdout",
     "output_type": "stream",
     "text": [
      "Hello hello world\n"
     ]
    }
   ],
   "source": [
    "#Q 25- Write a Python program to remove continuous duplicate words from Sentence using Regular Expression.\n",
    "str= \"Hello hello world world\"\n",
    "pat=r'\\b(\\w+)(?:\\W+\\1\\b)+'\n",
    "print(re.sub(pat,r'\\1',str))"
   ]
  },
  {
   "cell_type": "code",
   "execution_count": 37,
   "id": "cfb0cd96",
   "metadata": {},
   "outputs": [
    {
     "name": "stdout",
     "output_type": "stream",
     "text": [
      "aplha number is abc123\n"
     ]
    }
   ],
   "source": [
    "#Question 26-  Write a python program using RegEx to accept string ending with alphanumeric character.\n",
    "str=['123abc is aplhanumeric ?','aplha number is abc123']\n",
    "pat=r'\\w$'\n",
    "for i in str:\n",
    "    if re.search(pat, i):\n",
    "        print(i)"
   ]
  },
  {
   "cell_type": "code",
   "execution_count": 38,
   "id": "a5011d17",
   "metadata": {},
   "outputs": [
    {
     "name": "stdout",
     "output_type": "stream",
     "text": [
      "['#Doltiwal', '#xyzabc', '#Demonetization']\n"
     ]
    }
   ],
   "source": [
    "#Question 27-Write a python program using RegEx to extract the hashtags\n",
    "txt= \"\"\"RT @kapil_kausik: #Doltiwal I mean #xyzabc is \"hurt\" by #Demonetization as the same has rendered USELESS <ed><U+00A0><U+00BD><ed><U+00B1><U+0089> \"acquired funds\" No wo\"\"\"\n",
    "pat=r'#\\w+'\n",
    "print(re.findall(pat,txt))"
   ]
  },
  {
   "cell_type": "code",
   "execution_count": 39,
   "id": "a652dd6e",
   "metadata": {},
   "outputs": [
    {
     "name": "stdout",
     "output_type": "stream",
     "text": [
      "@Jags123456 Bharat band on 28??<ed><ed>Those who  are protesting #demonetization  are all different party leaders\n"
     ]
    }
   ],
   "source": [
    "#Question 28- Write a python program using RegEx to remove <U+..> like symbols\n",
    "txt=\"@Jags123456 Bharat band on 28??<ed><U+00A0><U+00BD><ed><U+00B8><U+0082>Those who  are protesting #demonetization  are all different party leaders\"\n",
    "pat=r'<U.\\w+>'\n",
    "print(re.sub(pat,'',txt))"
   ]
  },
  {
   "cell_type": "code",
   "execution_count": 40,
   "id": "c1877771",
   "metadata": {},
   "outputs": [
    {
     "name": "stdout",
     "output_type": "stream",
     "text": [
      "('12', '09', '1992')\n",
      "('15', '12', '1999')\n",
      "Ron was born on 12-09-1992 and he was admitted to school 15-12-1999.\n"
     ]
    }
   ],
   "source": [
    "#Question 29- Write a python program to extract dates from the text stored in the text file.\n",
    "with open(\"date.txt\") as file:\n",
    "    for line in file:\n",
    "        date = re.findall(r'(\\d{2})-(\\d{2})-(\\d{4})', line)\n",
    "        for i in date:\n",
    "            print(i)\n",
    "file=open(\"date.txt\")\n",
    "print(file.read())\n"
   ]
  },
  {
   "cell_type": "code",
   "execution_count": 42,
   "id": "b27ce70c",
   "metadata": {},
   "outputs": [
    {
     "name": "stdout",
     "output_type": "stream",
     "text": [
      " following example creates  ArrayList  a capacity   elements. 4 elements   added   ArrayList   ArrayList  trimmed accordingly.\n",
      "None\n"
     ]
    }
   ],
   "source": [
    "#Question 30- Create a function in python to remove all words from a string of length between 2 and 4.\n",
    "str = \"The following example creates an ArrayList with a capacity of 50 elements. 4 elements are then added to the ArrayList and the ArrayList is trimmed accordingly.\"\n",
    "mini = 2\n",
    "maxi = 4\n",
    "def remove(str, min_len, max_len):\n",
    "    pat = re.compile(r'\\b\\w{2,4}\\b')\n",
    "    print(re.sub(pat,'',str))\n",
    "print(remove(str, mini, maxi))"
   ]
  },
  {
   "cell_type": "code",
   "execution_count": null,
   "id": "d9f6747f",
   "metadata": {},
   "outputs": [],
   "source": []
  },
  {
   "cell_type": "code",
   "execution_count": null,
   "id": "21f116d6",
   "metadata": {},
   "outputs": [],
   "source": []
  },
  {
   "cell_type": "code",
   "execution_count": null,
   "id": "686f188d",
   "metadata": {},
   "outputs": [],
   "source": []
  }
 ],
 "metadata": {
  "kernelspec": {
   "display_name": "Python 3 (ipykernel)",
   "language": "python",
   "name": "python3"
  },
  "language_info": {
   "codemirror_mode": {
    "name": "ipython",
    "version": 3
   },
   "file_extension": ".py",
   "mimetype": "text/x-python",
   "name": "python",
   "nbconvert_exporter": "python",
   "pygments_lexer": "ipython3",
   "version": "3.10.9"
  }
 },
 "nbformat": 4,
 "nbformat_minor": 5
}
